def get_model():
  nclass = 5
  inp = Input(shape=(187, 1))
  img_1 = Conv1D(16, kernel_size=5, activation=activations.relu, padding="valid")(inp)
  img_1 = Conv1D(16, kernel_size=5, activation=activations.relu, padding="valid")(img_1)
  img_1 = MaxPooling1D(pool_size=2)(img_1)
  img_1 = Dropout(rate=0.1)(img_1)
  img_1 = Conv1D(32, kernel_size=3, activation=activations.relu, padding="valid")(img_1)
  img_1 = Conv1D(32, kernel_size=3, activation=activations.relu, padding="valid")(img_1)
  img_1 = MaxPooling1D(pool_size=2)(img_1)
  img_1 = Dropout(rate=0.1)(img_1)
  img_1 = Conv1D(32, kernel_size=3, activation=activations.relu, padding="valid")(img_1)
  img_1 = Conv1D(32, kernel_size=3, activation=activations.relu, padding="valid")(img_1)
  img_1 = MaxPooling1D(pool_size=2)(img_1)
  img_1 = Dropout(rate=0.1)(img_1)
  img_1 = Conv1D(256, kernel_size=3, activation=activations.relu, padding="valid")(img_1)
  img_1 = Conv1D(256, kernel_size=3, activation=activations.relu, padding="valid")(img_1)
  img_1 = GlobalMaxPooling1D()(img_1)
  img_1 = Dropout(rate=0.2)(img_1)

  dense_1 = Dense(64, activation=activations.relu, name="dense_1")(img_1)
  dense_1 = Dense(64, activation=activations.relu, name="dense_2")(dense_1)
  dense_1 = Dense(nclass, activation=activations.softmax, name="dense_3_mitbih")(dense_1)

  model = models.Model(inputs=inp, outputs=dense_1)
  opt = optimizers.Adam(0.001)

  model.compile(optimizer=opt, loss=losses.sparse_categorical_crossentropy, metrics=['acc'])
  model.summary()
  return model

model = get_model()
file_path = "models/baseline_cnn_mitbih.h5"
model.load_weights(file_path)
#print("final array",final_array)
pred_test = model.predict(final_array)
pred_test = np.argmax(pred_test, axis=-1)
print(pred_test)
